{
 "cells": [
  {
   "cell_type": "markdown",
   "id": "5d92bfda",
   "metadata": {
    "slideshow": {
     "slide_type": "slide"
    }
   },
   "source": [
    "<div style=\"text-align: center\"> <h2> Exercícios </h2> </div>"
   ]
  },
  {
   "cell_type": "markdown",
   "id": "1af63e35",
   "metadata": {
    "slideshow": {
     "slide_type": "slide"
    }
   },
   "source": [
    "<div style=\"text-align: center\"> <h2> Responda abaixo os tipos de variáveis</h2> </div>"
   ]
  },
  {
   "cell_type": "code",
   "execution_count": 1,
   "id": "68d833fe",
   "metadata": {
    "slideshow": {
     "slide_type": "fragment"
    }
   },
   "outputs": [],
   "source": [
    "mensagem = 'Oi, tudo bem?'\n",
    "n = 10\n",
    "pi = 3.14"
   ]
  },
  {
   "cell_type": "code",
   "execution_count": 2,
   "id": "d8b6c75e",
   "metadata": {},
   "outputs": [
    {
     "data": {
      "text/plain": [
       "str"
      ]
     },
     "execution_count": 2,
     "metadata": {},
     "output_type": "execute_result"
    }
   ],
   "source": [
    "type(mensagem)\n"
   ]
  },
  {
   "cell_type": "code",
   "execution_count": 3,
   "id": "4aef5ac5",
   "metadata": {},
   "outputs": [
    {
     "data": {
      "text/plain": [
       "int"
      ]
     },
     "execution_count": 3,
     "metadata": {},
     "output_type": "execute_result"
    }
   ],
   "source": [
    "type(n)"
   ]
  },
  {
   "cell_type": "code",
   "execution_count": 4,
   "id": "55da8c66",
   "metadata": {},
   "outputs": [
    {
     "data": {
      "text/plain": [
       "float"
      ]
     },
     "execution_count": 4,
     "metadata": {},
     "output_type": "execute_result"
    }
   ],
   "source": [
    "type(pi)"
   ]
  },
  {
   "cell_type": "markdown",
   "id": "aafcb39e",
   "metadata": {
    "slideshow": {
     "slide_type": "subslide"
    }
   },
   "source": [
    "<div style=\"text-align: left\"><p><strong>Atenção</strong><br>O que acontece ao cadastrar uma variável com número na frente?</p></div>"
   ]
  },
  {
   "cell_type": "code",
   "execution_count": 5,
   "id": "dfa89bf1",
   "metadata": {},
   "outputs": [
    {
     "ename": "SyntaxError",
     "evalue": "invalid syntax (2503319441.py, line 1)",
     "output_type": "error",
     "traceback": [
      "\u001b[1;36m  Input \u001b[1;32mIn [5]\u001b[1;36m\u001b[0m\n\u001b[1;33m    3lucas = \"nome\"\u001b[0m\n\u001b[1;37m     ^\u001b[0m\n\u001b[1;31mSyntaxError\u001b[0m\u001b[1;31m:\u001b[0m invalid syntax\n"
     ]
    }
   ],
   "source": [
    "3lucas = \"nome\""
   ]
  },
  {
   "cell_type": "code",
   "execution_count": null,
   "id": "497966c1",
   "metadata": {
    "slideshow": {
     "slide_type": "slide"
    }
   },
   "outputs": [],
   "source": [
    "\"Para adicionar uma imagem utilize o código abaixo\"\n",
    "from IPython.display import Image\n",
    "from IPython.core.display import HTML \n",
    "Image(url= \"https://blogdosdados.com/wp-content/uploads/2020/06/palavras-chave-em-Python.png\")"
   ]
  },
  {
   "cell_type": "markdown",
   "id": "ee38702d",
   "metadata": {
    "slideshow": {
     "slide_type": "slide"
    }
   },
   "source": [
    "<div style=\"text-align: center\"> <h2>Como realizar uma declaração de variável múltipla?</h2> </div>"
   ]
  },
  {
   "cell_type": "code",
   "execution_count": null,
   "id": "4da59d77",
   "metadata": {},
   "outputs": [],
   "source": [
    "a = 1\n",
    "b = 2\n",
    "c = 3"
   ]
  },
  {
   "cell_type": "code",
   "execution_count": null,
   "id": "da9ef527",
   "metadata": {},
   "outputs": [],
   "source": [
    "print (a,b,c)"
   ]
  },
  {
   "cell_type": "markdown",
   "id": "22623066",
   "metadata": {
    "slideshow": {
     "slide_type": "slide"
    }
   },
   "source": [
    "<div style=\"text-align: center\"> <h2>Teste o modo script no jupyter e em outra IDE</h2> </div>"
   ]
  },
  {
   "cell_type": "code",
   "execution_count": null,
   "id": "d0c6afb9",
   "metadata": {
    "slideshow": {
     "slide_type": "fragment"
    }
   },
   "outputs": [],
   "source": [
    "5\n",
    "x= 5\n",
    "x + 1"
   ]
  },
  {
   "cell_type": "code",
   "execution_count": null,
   "id": "d71614bb",
   "metadata": {},
   "outputs": [],
   "source": []
  },
  {
   "cell_type": "markdown",
   "id": "df52c479",
   "metadata": {
    "slideshow": {
     "slide_type": "subslide"
    }
   },
   "source": [
    "<div style=\"text-align: left\">\n",
    "No script não recebe nenhuma saída. Uma expressão, por conta própria, não tem efeito visível no modo script. O Python,\n",
    "na verdade, avalia a expressão, mas não exibe o valor a menos que você especifique:.</div>"
   ]
  },
  {
   "cell_type": "code",
   "execution_count": null,
   "id": "a7013ad2",
   "metadata": {
    "slideshow": {
     "slide_type": "fragment"
    }
   },
   "outputs": [],
   "source": [
    "x = 5\n",
    "print('x + 1')"
   ]
  },
  {
   "cell_type": "markdown",
   "id": "5bc35aa2",
   "metadata": {
    "slideshow": {
     "slide_type": "slide"
    }
   },
   "source": [
    "<div style=\"text-align: center\"> <h2>Operações com strings</h2> </div>"
   ]
  },
  {
   "cell_type": "code",
   "execution_count": null,
   "id": "efc72853",
   "metadata": {
    "slideshow": {
     "slide_type": "fragment"
    }
   },
   "outputs": [],
   "source": [
    "primeiro = 'o'"
   ]
  },
  {
   "cell_type": "code",
   "execution_count": null,
   "id": "cd49e9e6",
   "metadata": {
    "slideshow": {
     "slide_type": "fragment"
    }
   },
   "outputs": [],
   "source": [
    "segundo = 'i'"
   ]
  },
  {
   "cell_type": "code",
   "execution_count": null,
   "id": "bf86f883",
   "metadata": {
    "slideshow": {
     "slide_type": "fragment"
    }
   },
   "outputs": [],
   "source": [
    "\"\"\"Quanto dá primeiro + segundo?\"\"\""
   ]
  },
  {
   "cell_type": "code",
   "execution_count": null,
   "id": "7a8e5a89",
   "metadata": {},
   "outputs": [],
   "source": [
    "primeiro + segundo"
   ]
  },
  {
   "cell_type": "markdown",
   "id": "e5a69b43",
   "metadata": {
    "slideshow": {
     "slide_type": "subslide"
    }
   },
   "source": [
    "<div style=\"text-align: left\"><p>\n",
    "Execute a multiplicação do primeiro pelo segundo</p></div>"
   ]
  },
  {
   "cell_type": "code",
   "execution_count": null,
   "id": "ea52d60d",
   "metadata": {},
   "outputs": [],
   "source": [
    "primeiro*2\n"
   ]
  },
  {
   "cell_type": "code",
   "execution_count": null,
   "id": "8bd4bc50",
   "metadata": {},
   "outputs": [],
   "source": [
    "segundo*4"
   ]
  },
  {
   "cell_type": "code",
   "execution_count": null,
   "id": "82e0ba76",
   "metadata": {},
   "outputs": [],
   "source": [
    "\"\"\"Conversa os números: 2 para float e 2.8 para inteiro\"\"\"\n"
   ]
  },
  {
   "cell_type": "code",
   "execution_count": null,
   "id": "fd1da75c",
   "metadata": {},
   "outputs": [],
   "source": [
    "float(2)"
   ]
  },
  {
   "cell_type": "code",
   "execution_count": null,
   "id": "8246ef9a",
   "metadata": {},
   "outputs": [],
   "source": [
    "int(2.8)"
   ]
  },
  {
   "cell_type": "code",
   "execution_count": null,
   "id": "1b4939ef",
   "metadata": {
    "slideshow": {
     "slide_type": "fragment"
    }
   },
   "outputs": [],
   "source": [
    "# Retorna o valor absoluto de -10\n"
   ]
  },
  {
   "cell_type": "code",
   "execution_count": null,
   "id": "6a53c5b9",
   "metadata": {},
   "outputs": [],
   "source": [
    "abs(10)"
   ]
  },
  {
   "cell_type": "code",
   "execution_count": null,
   "id": "12446a2b",
   "metadata": {
    "slideshow": {
     "slide_type": "fragment"
    }
   },
   "outputs": [],
   "source": [
    "# Retorna o valor com arredondamento de 8.7890 em duas casas decimais\n"
   ]
  },
  {
   "cell_type": "code",
   "execution_count": null,
   "id": "776ac107",
   "metadata": {},
   "outputs": [],
   "source": [
    "round(8.7890,2)"
   ]
  },
  {
   "cell_type": "code",
   "execution_count": null,
   "id": "e2e1df93",
   "metadata": {
    "slideshow": {
     "slide_type": "fragment"
    }
   },
   "outputs": [],
   "source": [
    "# 2 elevado a 5 dá quanto?\n"
   ]
  },
  {
   "cell_type": "code",
   "execution_count": null,
   "id": "d0dbd2b1",
   "metadata": {},
   "outputs": [],
   "source": [
    "2**5"
   ]
  },
  {
   "cell_type": "code",
   "execution_count": null,
   "id": "8488d2fc",
   "metadata": {},
   "outputs": [],
   "source": []
  },
  {
   "cell_type": "markdown",
   "id": "f9aedd78",
   "metadata": {
    "slideshow": {
     "slide_type": "fragment"
    }
   },
   "source": [
    "Desenvolva um algoritmo e um fluxograma para um\n",
    "programa que permita com que o usuário insira quatro\n",
    "números. \n",
    "O programa deverá imprimir a média ponderada, sabendo-se que os pesos são respectivamente: 1, 2, 3 e 4"
   ]
  },
  {
   "cell_type": "code",
   "execution_count": null,
   "id": "47869964",
   "metadata": {},
   "outputs": [],
   "source": [
    "nota1 = float(input(\"insira sua primeira nota:\"))\n",
    "nota2 = float(input(\"insira sua segunda nota:\"))\n",
    "nota3 = float(input(\"insira sua terceira nota:\"))\n",
    "nota4 = float(input(\"insira sua quarta nota:\"))\n",
    "media = (nota1/10 + nota2/5 + nota3/3.3 + nota4/2.5)\n",
    "print(\"sua média final é:\",media)"
   ]
  },
  {
   "cell_type": "markdown",
   "id": "486ea5f8",
   "metadata": {
    "slideshow": {
     "slide_type": "fragment"
    }
   },
   "source": [
    "Todo restaurante, embora por lei não possa obrigar o cliente a\n",
    "pagar, cobra 10% do valor da conta como taxa de serviço. Elabore\n",
    "um algoritmo e um fluxograma que leia o valor gasto com as\n",
    "despesas realizadas em um restaurante e exiba o valor total com a\n",
    "taxa de serviço (conforme exemplo).\n",
    "Por favor digite o valor da conta (em reais): 75\n",
    "Valor da taxa de serviço: 7.5 reais\n",
    "Valor total da conta (com taxa de serviço): 82.5 reais"
   ]
  },
  {
   "cell_type": "code",
   "execution_count": null,
   "id": "73963964",
   "metadata": {},
   "outputs": [],
   "source": [
    "valor  = float(input(\"Valor da conta em R$:\"))\n",
    "conta = valor +(valor*0.1)\n",
    "print (\"Esse é o valor total da sua conta com a taxa de serviço incluso\", conta)"
   ]
  },
  {
   "cell_type": "markdown",
   "id": "9fdca8a3",
   "metadata": {
    "slideshow": {
     "slide_type": "fragment"
    }
   },
   "source": [
    "Escreva um algoritmo e monte um fluxograma que leia as dimensões de um terreno (largura e profundidade) e calcule sua \n",
    "área."
   ]
  },
  {
   "cell_type": "code",
   "execution_count": null,
   "id": "d12cb119",
   "metadata": {},
   "outputs": [],
   "source": [
    "largura = float(input(\"Digite a largura do seu terreno:\"))\n",
    "profundidade = float(input(\"Digite a profundidade do seu terreno:\"))\n",
    "MetragemTotal = (largura*profundidade)\n",
    "print (f'Seu terreno possui {MetragemTotal} m2')"
   ]
  },
  {
   "cell_type": "markdown",
   "id": "69ddeea4",
   "metadata": {},
   "source": [
    "Faça um algoritmo e um fluxograma que leia a idade de uma pessoa expressa em anos, meses e dias e mostre-a \n",
    "expressa apenas em dias. A idade deve ser digitada considerando três variáveis inteiras.\n"
   ]
  },
  {
   "cell_type": "code",
   "execution_count": 8,
   "id": "42aa820c",
   "metadata": {},
   "outputs": [
    {
     "name": "stdout",
     "output_type": "stream",
     "text": [
      "Digite sua idade:27\n",
      "Digite quantos meses você tem:0\n",
      "Digite quantos dias voce tem5\n",
      "Seus dias de vida são:9860\n"
     ]
    }
   ],
   "source": [
    "ano = int(input(\"Digite sua idade:\"))\n",
    "mes = int(input(\"Digite quantos meses você tem:\"))\n",
    "dia = int(input(\"Digite quantos dias voce tem\"))\n",
    "meses = int(mes*30)\n",
    "dias = int(ano*365)+meses+dia\n",
    "print(f'Seus dias de vida são:{dias}')"
   ]
  },
  {
   "cell_type": "markdown",
   "id": "c7607374",
   "metadata": {
    "slideshow": {
     "slide_type": "fragment"
    }
   },
   "source": [
    " Uma fazenda adquiriu animais para o trabalho diário e também para produção de leite e lã. Foram \n",
    "adquiridos cavalos, vacas e ovelhas.\n",
    "A quantidade de cada animal deve ser informada no algoritmo. Após, deve ser calculado e \n",
    "apresentado as seguintes informações:\n",
    " Volume diário, semanal e mensal de leite produzido, considerando que cada vaca produz, na \n",
    "média, 3,2 litros/dia.\n",
    " Volume, em quilos, de lã produzida, estimando para isso que cada ovelha produza 2,3 quilos \n",
    "de lã a cada tosquia (retirada da lã da ovelha).\n",
    " Quantidade de ferraduras necessárias para equipar toda a tropa de cavalos"
   ]
  },
  {
   "cell_type": "code",
   "execution_count": 14,
   "id": "1dac7a3c",
   "metadata": {},
   "outputs": [
    {
     "name": "stdout",
     "output_type": "stream",
     "text": [
      "Escreva sua quantidade de cavalos:10\n",
      "Escreva sua quantidade de vacas:10\n",
      "Escreva sua quantidade de ovelhas:10\n",
      "O volume de leite diario é: 32.0 , Volume semanal é :224.0 e Volume mensal 960.0, a quantidade de tosquia é : 23.0, e a quantidade de ferraduras é :40 \n"
     ]
    }
   ],
   "source": [
    "cavalo =int(input(\"Escreva sua quantidade de cavalos:\"))\n",
    "vaca = int(input(\"Escreva sua quantidade de vacas:\"))\n",
    "ovelha = int(input(\"Escreva sua quantidade de ovelhas:\"))\n",
    "vacDiaria = vaca*3.2 \n",
    "oveTosquia = ovelha*2.3\n",
    "cavFerradura = cavalo*4\n",
    "vacSemanal = vacDiaria*7\n",
    "vacMensal = vacDiaria*30\n",
    "print(f'O volume de leite diario é: {vacDiaria} , Volume semanal é :{vacSemanal} e Volume mensal {vacMensal}, a quantidade de tosquia é : {oveTosquia}, e a quantidade de ferraduras é :{cavFerradura} ')\n",
    "\n",
    "\n"
   ]
  },
  {
   "cell_type": "code",
   "execution_count": null,
   "id": "3bbb41ab",
   "metadata": {},
   "outputs": [],
   "source": []
  }
 ],
 "metadata": {
  "celltoolbar": "Slideshow",
  "kernelspec": {
   "display_name": "Python 3 (ipykernel)",
   "language": "python",
   "name": "python3"
  },
  "language_info": {
   "codemirror_mode": {
    "name": "ipython",
    "version": 3
   },
   "file_extension": ".py",
   "mimetype": "text/x-python",
   "name": "python",
   "nbconvert_exporter": "python",
   "pygments_lexer": "ipython3",
   "version": "3.9.12"
  }
 },
 "nbformat": 4,
 "nbformat_minor": 5
}
